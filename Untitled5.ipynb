{
  "nbformat": 4,
  "nbformat_minor": 0,
  "metadata": {
    "colab": {
      "provenance": [],
      "authorship_tag": "ABX9TyMJ8yiHi2DcKVkKx12OS7Bh",
      "include_colab_link": true
    },
    "kernelspec": {
      "name": "python3",
      "display_name": "Python 3"
    },
    "language_info": {
      "name": "python"
    }
  },
  "cells": [
    {
      "cell_type": "markdown",
      "metadata": {
        "id": "view-in-github",
        "colab_type": "text"
      },
      "source": [
        "<a href=\"https://colab.research.google.com/github/Tarikdigital1963/Fallaowme-books/blob/main/Untitled5.ipynb\" target=\"_parent\"><img src=\"https://colab.research.google.com/assets/colab-badge.svg\" alt=\"Open In Colab\"/></a>"
      ]
    },
    {
      "cell_type": "code",
      "source": [
        "\n",
        "import requests\n",
        "from bs4 import BeautifulSoup\n",
        "from datetime import datetime\n",
        "\n",
        "# 🟢 قائمة روابط AliExpress\n",
        "product_links = [\n",
        "    \"https://www.aliexpress.com/item/1005007129539181.html\",\n",
        "    \"https://www.aliexpress.com/item/1005006959098316.html\",\n",
        "    \"https://www.aliexpress.com/item/1005007495084810.html\",\n",
        "    \"https://www.aliexpress.com/item/1005007045772751.html\",\n",
        "    \"https://www.aliexpress.com/item/1005008235205373.html\",\n",
        "    \"https://www.aliexpress.com/item/1005007473104607.html\",\n",
        "    \"https://www.aliexpress.com/item/1005008135645495.html\",\n",
        "    \"https://www.aliexpress.com/item/1005006807770322.html\",\n",
        "    \"https://www.aliexpress.com/item/1005006716222743.html\",\n",
        "    \"https://www.aliexpress.com/item/1005007665524614.html\"\n",
        "]\n",
        "\n",
        "# 🔵 إنشاء صفحة HTML\n",
        "html = f\"\"\"\n",
        "<!DOCTYPE html><html lang='ar' dir='rtl'>\n",
        "<head>\n",
        "    <meta charset='UTF-8'>\n",
        "    <meta name='viewport' content='width=device-width, initial-scale=1.0'>\n",
        "    <title>منتجات مرسى الطريق</title>\n",
        "    <style>\n",
        "        body {{ background-color: #000; color: #fff; font-family: Arial; margin: 0; padding: 0; }}\n",
        "        h1 {{ color: #ff0000; text-align: center; padding: 20px; font-size: 2.5em; }}\n",
        "        .product {{ border-bottom: 1px solid #333; padding: 15px; }}\n",
        "        a {{ color: #00ffff; font-size: 1.2em; }}\n",
        "        .socials {{ text-align: center; margin-top: 30px; }}\n",
        "        .socials a {{ margin: 10px; font-size: 1.5em; color: #fff; text-decoration: none; }}\n",
        "        .message {{ color: #00ff00; font-weight: bold; text-align: center; padding: 20px; font-size: 1.2em; }}\n",
        "        .testimonial {{ color: #ffd700; text-align: center; margin-top: 20px; }}\n",
        "    </style>\n",
        "</head>\n",
        "<body>\n",
        "    <h1>مرسى الطريق يرحب بكم في أفضل المنتجات العالمية</h1>\n",
        "    <div class='message'>✅ منتجات مختارة بعناية وبجودة عالية، اشترِ الآن بثقة تامة!</div>\n",
        "\"\"\"\n",
        "\n",
        "# إضافة روابط المنتجات\n",
        "for link in product_links:\n",
        "    html += f\"\"\"\n",
        "    <div class='product'>🔗 <a href='{link}' target='_blank'>عرض المنتج</a></div>\n",
        "    \"\"\"\n",
        "\n",
        "# نهاية الصفحة\n",
        "html += \"\"\"\n",
        "    <div class='testimonial'>\n",
        "        ⭐⭐⭐⭐⭐<br>\n",
        "        أكثر من 10,000 زبون حول العالم يثقون بمنتجاتنا.<br>\n",
        "        جرب الآن وانضم إلى آلاف المشترين السعداء!\n",
        "    </div>\n",
        "\n",
        "    <div class='socials'>\n",
        "        <a href='https://youtube.com' target='_blank'>🎥 YouTube</a>\n",
        "        <a href='https://facebook.com' target='_blank'>📘 Facebook</a>\n",
        "        <a href='https://instagram.com' target='_blank'>📸 Instagram</a>\n",
        "    </div>\n",
        "</body>\n",
        "</html>\n",
        "\"\"\"\n",
        "\n",
        "# 📝 حفظ الصفحة في ملف HTML\n",
        "with open(\"products.html\", \"w\", encoding=\"utf-8\") as f:\n",
        "    f.write(html)\n",
        "\n",
        "print(\"✅ تم إنشاء صفحة المنتجات بنجاح: products.html\")"
      ],
      "metadata": {
        "colab": {
          "base_uri": "https://localhost:8080/"
        },
        "id": "VtJV5J0QIYxD",
        "outputId": "1bae9bb2-6695-48c4-bd50-a7dc735fea0b"
      },
      "execution_count": 3,
      "outputs": [
        {
          "output_type": "stream",
          "name": "stdout",
          "text": [
            "✅ تم إنشاء صفحة المنتجات بنجاح: products.html\n"
          ]
        }
      ]
    }
  ]
}